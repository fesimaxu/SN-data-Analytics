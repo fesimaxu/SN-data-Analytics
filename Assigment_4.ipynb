{
  "nbformat": 4,
  "nbformat_minor": 0,
  "metadata": {
    "colab": {
      "name": "Assigment 4.ipynb",
      "provenance": []
    },
    "kernelspec": {
      "name": "python3",
      "display_name": "Python 3"
    },
    "language_info": {
      "name": "python"
    }
  },
  "cells": [
    {
      "cell_type": "markdown",
      "metadata": {
        "id": "Hqsund8K9FaH"
      },
      "source": [
        "ANSWER NO 1\n",
        "To return a specified key and value of dictionary"
      ]
    },
    {
      "cell_type": "code",
      "metadata": {
        "colab": {
          "base_uri": "https://localhost:8080/"
        },
        "id": "ktyIQXKh9NHL",
        "outputId": "dade79d8-2f0e-4a71-ad7f-05e8a48a9bc5"
      },
      "source": [
        "epl_players = {\n",
        "    \"manchester_united\" : \"rashford\",\n",
        "    \"leichester_city\" : \"iheanacho\",\n",
        "    \"manchester_city\" : \"sterling\",\n",
        "    \"arsenal\" : \"saka\",\n",
        "    \"everton\" : \"james\"\n",
        "}\n",
        "\n",
        "print(epl_players)"
      ],
      "execution_count": null,
      "outputs": [
        {
          "output_type": "stream",
          "text": [
            "{'manchester_united': 'rashford', 'leichester_city': 'iheanacho', 'manchester_city': 'sterling', 'arsenal': 'saka', 'everton': 'james'}\n"
          ],
          "name": "stdout"
        }
      ]
    },
    {
      "cell_type": "code",
      "metadata": {
        "colab": {
          "base_uri": "https://localhost:8080/"
        },
        "id": "f7kzDS2jGAtA",
        "outputId": "1abc435b-06b7-4048-9dcb-800d8b70e671"
      },
      "source": [
        "epl_players = {\n",
        "    \"manchester_united\" : \"rashford\",\n",
        "    \"leichester_city\" : \"iheanacho\",\n",
        "    \"manchester_city\" : \"sterling\",\n",
        "    \"arsenal\" : \"saka\",\n",
        "    \"everton\" : \"james\"\n",
        "}\n",
        "for player in epl_players:\n",
        "  print(epl_players[player])"
      ],
      "execution_count": null,
      "outputs": [
        {
          "output_type": "stream",
          "text": [
            "rashford\n",
            "iheanacho\n",
            "sterling\n",
            "saka\n",
            "james\n"
          ],
          "name": "stdout"
        }
      ]
    },
    {
      "cell_type": "markdown",
      "metadata": {
        "id": "fqUfhZRGG3bh"
      },
      "source": [
        "ANSWER NO 2\n",
        "Using the .get() to access a dictionary"
      ]
    },
    {
      "cell_type": "code",
      "metadata": {
        "colab": {
          "base_uri": "https://localhost:8080/"
        },
        "id": "AiDwWV6ZHamL",
        "outputId": "63ed3271-5a87-4df9-c85c-51d93ddd51dc"
      },
      "source": [
        "nigerian_capitals = {\n",
        "    \"abia\" : \"umuahia\",\n",
        "    \"niger\" : \"minna\",\n",
        "    \"anambra\" : \"awka\",\n",
        "    \"lagos\" : \"ikeja\",\n",
        "    \"ebonyi\" : \"abakalikii\",\n",
        "    \"enugu\" : \"enugu\"\n",
        "}\n",
        "\n",
        "print(nigerian_capitals.get(\"enugu\"))"
      ],
      "execution_count": null,
      "outputs": [
        {
          "output_type": "stream",
          "text": [
            "enugu\n"
          ],
          "name": "stdout"
        }
      ]
    },
    {
      "cell_type": "code",
      "metadata": {
        "colab": {
          "base_uri": "https://localhost:8080/"
        },
        "id": "NtL8YZrDJjYX",
        "outputId": "0470b082-2928-45a9-cc96-3c750cdbc425"
      },
      "source": [
        "print(nigerian_capitals.get(\"niger\"))"
      ],
      "execution_count": null,
      "outputs": [
        {
          "output_type": "stream",
          "text": [
            "minna\n"
          ],
          "name": "stdout"
        }
      ]
    },
    {
      "cell_type": "markdown",
      "metadata": {
        "id": "4YdHzY4WKlYv"
      },
      "source": [
        "ANSWER NO. 3\n",
        "Using .item() to return a tuple value"
      ]
    },
    {
      "cell_type": "code",
      "metadata": {
        "colab": {
          "base_uri": "https://localhost:8080/"
        },
        "id": "JG4Zb5KcK_RO",
        "outputId": "dac92bc7-72a6-4ad0-c4df-892058a59cf2"
      },
      "source": [
        "federal_university = {\n",
        "    \"anambra\" : \"unizik\",\n",
        "    \"imo\" : \"futo\",\n",
        "    \"lagos\" : \"unilag\",\n",
        "    \"ondo\" : \"akure\",\n",
        "    \"enugu\" : \"unn\"\n",
        "} \n",
        "for key, value in federal_university.items():\n",
        "    print(f\"The location of {value} is in {key} state.\") "
      ],
      "execution_count": null,
      "outputs": [
        {
          "output_type": "stream",
          "text": [
            "The location of unizik is in anambra state.\n",
            "The location of futo is in imo state.\n",
            "The location of unilag is in lagos state.\n",
            "The location of akure is in ondo state.\n",
            "The location of unn is in enugu state.\n"
          ],
          "name": "stdout"
        }
      ]
    },
    {
      "cell_type": "code",
      "metadata": {
        "id": "0b4j99MbRXYw",
        "colab": {
          "base_uri": "https://localhost:8080/"
        },
        "outputId": "f07d4346-c505-42f3-8916-b2b3cc48c405"
      },
      "source": [
        "def student_scores(**kwargs):\n",
        "  print(kwargs)\n",
        "  for key, value in kwargs.items():\n",
        "    print(f\"The student score in {key} is {value}\")\n",
        "\n",
        "student_scores(phy=88,chem=70,eng=90,math=67,his=90)"
      ],
      "execution_count": null,
      "outputs": [
        {
          "output_type": "stream",
          "text": [
            "{'phy': 88, 'chem': 70, 'eng': 90, 'math': 67, 'his': 90}\n",
            "The student score in phy is 88\n",
            "The student score in chem is 70\n",
            "The student score in eng is 90\n",
            "The student score in math is 67\n",
            "The student score in his is 90\n"
          ],
          "name": "stdout"
        }
      ]
    },
    {
      "cell_type": "code",
      "metadata": {
        "colab": {
          "base_uri": "https://localhost:8080/"
        },
        "id": "ftZ02fhMcO_H",
        "outputId": "23c854ab-047f-4a78-be44-672c7a9c916f"
      },
      "source": [
        "def game_scores(*args):\n",
        "  \n",
        "  for x in args:\n",
        "    return args\n",
        "\n",
        "game_scores(2,3,4,5,6)"
      ],
      "execution_count": null,
      "outputs": [
        {
          "output_type": "execute_result",
          "data": {
            "text/plain": [
              "(2, 3, 4, 5, 6)"
            ]
          },
          "metadata": {
            "tags": []
          },
          "execution_count": 29
        }
      ]
    },
    {
      "cell_type": "markdown",
      "metadata": {
        "id": "XUlS4JItgXbh"
      },
      "source": [
        "ANSWER NO 4 :\n",
        "UsIng .pop() in a dictionary"
      ]
    },
    {
      "cell_type": "code",
      "metadata": {
        "colab": {
          "base_uri": "https://localhost:8080/",
          "height": 35
        },
        "id": "D_hKp8QRgIfw",
        "outputId": "d30ceb51-6e7d-4c5e-b039-28225f7c0291"
      },
      "source": [
        "nigerian_songs = {\n",
        "    \"burna_boy\" : \"anybody\",\n",
        "    \"davido\" : \"holy ground\",\n",
        "    \"wizkid\" : \"essence\",\n",
        "    \"rema\" : \"booty bounce\",\n",
        "    \"olamide\" : \"Trumphant\",\n",
        "    \"tubaba\" : \"rain drops\"\n",
        "}\n",
        "\n",
        "nigerian_songs.pop(\"rema\")"
      ],
      "execution_count": null,
      "outputs": [
        {
          "output_type": "execute_result",
          "data": {
            "application/vnd.google.colaboratory.intrinsic+json": {
              "type": "string"
            },
            "text/plain": [
              "'booty bounce'"
            ]
          },
          "metadata": {
            "tags": []
          },
          "execution_count": 14
        }
      ]
    },
    {
      "cell_type": "code",
      "metadata": {
        "colab": {
          "base_uri": "https://localhost:8080/"
        },
        "id": "m4ER_Aqwh7QZ",
        "outputId": "fab41bd0-8358-4dcf-b5aa-ec6b95a4d268"
      },
      "source": [
        "print(nigerian_songs)"
      ],
      "execution_count": null,
      "outputs": [
        {
          "output_type": "stream",
          "text": [
            "{'burna_boy': 'anybody', 'davido': 'holy ground', 'wizkid': 'essence', 'olamide': 'Trumphant', 'tubaba': 'rain drops'}\n"
          ],
          "name": "stdout"
        }
      ]
    },
    {
      "cell_type": "code",
      "metadata": {
        "colab": {
          "base_uri": "https://localhost:8080/",
          "height": 35
        },
        "id": "F0n-7RL4iTCz",
        "outputId": "adde5a63-d581-4a79-8d70-a7699ccec581"
      },
      "source": [
        "nigerian_songs.pop(\"tubaba\")"
      ],
      "execution_count": null,
      "outputs": [
        {
          "output_type": "execute_result",
          "data": {
            "application/vnd.google.colaboratory.intrinsic+json": {
              "type": "string"
            },
            "text/plain": [
              "'rain drops'"
            ]
          },
          "metadata": {
            "tags": []
          },
          "execution_count": 6
        }
      ]
    },
    {
      "cell_type": "markdown",
      "metadata": {
        "id": "uOGEyuUOkrR5"
      },
      "source": [
        "ANSWER NO 5 : Using .setdefault  "
      ]
    },
    {
      "cell_type": "code",
      "metadata": {
        "colab": {
          "base_uri": "https://localhost:8080/"
        },
        "id": "UFisuidkk27p",
        "outputId": "8be2dc27-19b7-4c40-a3d0-38f8c2f898b4"
      },
      "source": [
        "nigerian_capitals = {\n",
        "    \"abia\" : \"umuahia\",\n",
        "    \"niger\" : \"minna\",\n",
        "    \"anambra\" : \"awka\",\n",
        "    \"lagos\" : \"ikeja\",\n",
        "    \"ebonyi\" : \"abakalikii\",\n",
        "    \"enugu\" : \"enugu\"\n",
        "}\n",
        "\n",
        "nigerian_capitals.setdefault(\"adamawa\",\"yola\")\n",
        "print(nigerian_capitals)"
      ],
      "execution_count": null,
      "outputs": [
        {
          "output_type": "stream",
          "text": [
            "{'abia': 'umuahia', 'niger': 'minna', 'anambra': 'awka', 'lagos': 'ikeja', 'ebonyi': 'abakalikii', 'enugu': 'enugu', 'adamawa': 'yola'}\n"
          ],
          "name": "stdout"
        }
      ]
    },
    {
      "cell_type": "markdown",
      "metadata": {
        "id": "R3HD3uVhn0iM"
      },
      "source": [
        "Inserting the key with specified value"
      ]
    },
    {
      "cell_type": "code",
      "metadata": {
        "colab": {
          "base_uri": "https://localhost:8080/"
        },
        "id": "uIZ8EQT9ljjo",
        "outputId": "e7f971d3-5f5f-449e-e878-9d244d610bb5"
      },
      "source": [
        "nigerian_songs = {\n",
        "    \"burna_boy\" : \"anybody\",\n",
        "    \"davido\" : \"holy ground\",\n",
        "    \"wizkid\" : \"essence\",\n",
        "    \"rema\" : \"booty bounce\",\n",
        "    \"olamide\" : \"Trumphant\",\n",
        "    \"tubaba\" : \"rain drops\"\n",
        "}\n",
        "\n",
        "nigerian_songs[\"omah lay\"] = \"bad influence\"\n",
        "print(nigerian_songs)"
      ],
      "execution_count": null,
      "outputs": [
        {
          "output_type": "stream",
          "text": [
            "{'burna_boy': 'anybody', 'davido': 'holy ground', 'wizkid': 'essence', 'rema': 'booty bounce', 'olamide': 'Trumphant', 'tubaba': 'rain drops', 'omah lay': 'bad influence'}\n"
          ],
          "name": "stdout"
        }
      ]
    },
    {
      "cell_type": "markdown",
      "metadata": {
        "id": "XKUAj3a8p2GP"
      },
      "source": [
        "ANSWER NO 6 : Using .update()"
      ]
    },
    {
      "cell_type": "code",
      "metadata": {
        "colab": {
          "base_uri": "https://localhost:8080/"
        },
        "id": "fXDXb55vqFcj",
        "outputId": "ca25f0c1-731d-4644-bc4e-f41233f2748f"
      },
      "source": [
        "nigerian_professionals = {\n",
        "    \"leichester\" : \"ndidi\",\n",
        "    \"napoli\" : \"oshimen\",\n",
        "    \"lazio\" : \"Onazi\",\n",
        "    \"villareal\" : \"chukwueze\",\n",
        "    \"man city\" : \"iheanacho\",\n",
        "    \"barca\" : \"oshola\"\n",
        "}\n",
        "\n",
        "nigerian_songs = {\n",
        "    \"burna_boy\" : \"anybody\",\n",
        "    \"davido\" : \"holy ground\",\n",
        "    \"wizkid\" : \"essence\",\n",
        "    \"rema\" : \"booty bounce\",\n",
        "    \"olamide\" : \"Trumphant\",\n",
        "    \"tubaba\" : \"rain drops\"\n",
        "}\n",
        "\n",
        "nigerian_professionals.update(nigerian_songs)\n",
        "print(nigerian_professionals)\n"
      ],
      "execution_count": null,
      "outputs": [
        {
          "output_type": "stream",
          "text": [
            "{'leichester': 'ndidi', 'napoli': 'oshimen', 'lazio': 'Onazi', 'villareal': 'chukwueze', 'man city': 'iheanacho', 'barca': 'oshola', 'burna_boy': 'anybody', 'davido': 'holy ground', 'wizkid': 'essence', 'rema': 'booty bounce', 'olamide': 'Trumphant', 'tubaba': 'rain drops'}\n"
          ],
          "name": "stdout"
        }
      ]
    },
    {
      "cell_type": "markdown",
      "metadata": {
        "id": "FjQJxroFNtRj"
      },
      "source": [
        "ANSWER NO. 7 : Using .value() to return the values in a dictionary"
      ]
    },
    {
      "cell_type": "code",
      "metadata": {
        "colab": {
          "base_uri": "https://localhost:8080/"
        },
        "id": "XZnPMJtbOID8",
        "outputId": "797455c9-da73-4f81-a119-7af83079dfec"
      },
      "source": [
        "television_station = {\n",
        "    \"Channels\" : \"Political news\",\n",
        "    \"African magic\" : \"Entertainment news\",\n",
        "    \"Super sports\" : \"Sports news\",\n",
        "    \"Emmanuel TV\" : \"Gospel news\",\n",
        "    \"CNN\" : \"International news\"\n",
        "}\n",
        "def tv_channels():\n",
        "  for channel in television_station.values():\n",
        "    print(channel)\n",
        "    \n",
        "tv_channels()"
      ],
      "execution_count": null,
      "outputs": [
        {
          "output_type": "stream",
          "text": [
            "Political news\n",
            "Entertainment news\n",
            "Sports news\n",
            "Gospel news\n",
            "International news\n"
          ],
          "name": "stdout"
        }
      ]
    },
    {
      "cell_type": "markdown",
      "metadata": {
        "id": "FrqUjuV8b_la"
      },
      "source": [
        "ANSWER NO. 8 : Using .append () on a list"
      ]
    },
    {
      "cell_type": "code",
      "metadata": {
        "colab": {
          "base_uri": "https://localhost:8080/"
        },
        "id": "osGBnHuScNbF",
        "outputId": "abe25879-b2ac-4a80-aa00-598867bd5532"
      },
      "source": [
        "empolyee_department = {\n",
        "    \"tools automation\" : \"obi\",\n",
        "    \"network\" : \"kosi\",\n",
        "    \"management\" : \"tochi\",\n",
        "    \"customer\" : \"wasington\"\n",
        "}\n",
        "def employee():\n",
        "  staff = []\n",
        "  for member in empolyee_department.values():\n",
        "    staff.append(member)\n",
        "    return staff\n",
        "\n",
        "employee()"
      ],
      "execution_count": null,
      "outputs": [
        {
          "output_type": "execute_result",
          "data": {
            "text/plain": [
              "['obi']"
            ]
          },
          "metadata": {
            "tags": []
          },
          "execution_count": 38
        }
      ]
    },
    {
      "cell_type": "code",
      "metadata": {
        "colab": {
          "base_uri": "https://localhost:8080/"
        },
        "id": "9ieHYrhReycU",
        "outputId": "08aab6d9-b1dc-4f24-bb20-e198209ae8c6"
      },
      "source": [
        "fruits = []\n",
        "fruits.append(\"watermelon\")\n",
        "fruits.append(\"cucumber\")\n",
        "fruits.append(\"apple\")\n",
        "fruits.append(\"orange\")\n",
        "print(fruits)"
      ],
      "execution_count": null,
      "outputs": [
        {
          "output_type": "stream",
          "text": [
            "['watermelon', 'cucumber', 'apple', 'orange']\n"
          ],
          "name": "stdout"
        }
      ]
    }
  ]
}