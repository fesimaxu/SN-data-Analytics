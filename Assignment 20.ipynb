{
  "nbformat": 4,
  "nbformat_minor": 0,
  "metadata": {
    "colab": {
      "name": "trial0.ipynb",
      "provenance": [],
      "collapsed_sections": [],
      "authorship_tag": "ABX9TyNu1PeGhhk+t/tZ5AA2TEmE",
      "include_colab_link": true
    },
    "kernelspec": {
      "name": "python3",
      "display_name": "Python 3"
    },
    "language_info": {
      "name": "python"
    }
  },
  "cells": [
    {
      "cell_type": "markdown",
      "metadata": {
        "id": "view-in-github",
        "colab_type": "text"
      },
      "source": [
        "<a href=\"https://colab.research.google.com/github/fesimaxu/SN-data-Analytics/blob/main/Assignment%2020.ipynb\" target=\"_parent\"><img src=\"https://colab.research.google.com/assets/colab-badge.svg\" alt=\"Open In Colab\"/></a>"
      ]
    },
    {
      "cell_type": "code",
      "metadata": {
        "colab": {
          "base_uri": "https://localhost:8080/"
        },
        "id": "2Rw90_m6Kw0X",
        "outputId": "1b5946f9-6899-4829-e8c2-127061d9d0c6"
      },
      "source": [
        "#converting \"1000\" to integer\n",
        "int('1000')"
      ],
      "execution_count": null,
      "outputs": [
        {
          "output_type": "execute_result",
          "data": {
            "text/plain": [
              "1000"
            ]
          },
          "metadata": {
            "tags": []
          },
          "execution_count": 8
        }
      ]
    },
    {
      "cell_type": "code",
      "metadata": {
        "colab": {
          "base_uri": "https://localhost:8080/"
        },
        "id": "_IxSaA4KOhfb",
        "outputId": "55f679b6-31c0-4707-aecb-5c5ac8873b29"
      },
      "source": [
        "#converting floating Data type to integer\n",
        "int(3.764)"
      ],
      "execution_count": null,
      "outputs": [
        {
          "output_type": "execute_result",
          "data": {
            "text/plain": [
              "3"
            ]
          },
          "metadata": {
            "tags": []
          },
          "execution_count": 9
        }
      ]
    },
    {
      "cell_type": "code",
      "metadata": {
        "colab": {
          "base_uri": "https://localhost:8080/"
        },
        "id": "L6X8pLvbPTzj",
        "outputId": "84ec6008-a6a5-4639-9457-17a11da4657f"
      },
      "source": [
        "#concatenation\n",
        "print('$' + '99.45' + ' ' + 'dollar')"
      ],
      "execution_count": null,
      "outputs": [
        {
          "output_type": "stream",
          "text": [
            "$99.45 dollar\n"
          ],
          "name": "stdout"
        }
      ]
    },
    {
      "cell_type": "code",
      "metadata": {
        "colab": {
          "base_uri": "https://localhost:8080/"
        },
        "id": "M2cmhluMQPpr",
        "outputId": "99d2a669-9aad-450f-ba11-bdcbe6b83084"
      },
      "source": [
        "#use of variable\n",
        "fancy_name = 'uchenna igwe'\n",
        "print(fancy_name)\n"
      ],
      "execution_count": null,
      "outputs": [
        {
          "output_type": "stream",
          "text": [
            "uchenna igwe\n"
          ],
          "name": "stdout"
        }
      ]
    },
    {
      "cell_type": "code",
      "metadata": {
        "colab": {
          "base_uri": "https://localhost:8080/"
        },
        "id": "FbnPl7w0IZxs",
        "outputId": "3d46daa3-601b-4aa6-e55a-fdf63887eaeb"
      },
      "source": [
        "# The technical name of the operator % is modulus or reminder.\n",
        "# It is used to return the reminder or fractional part of a mamethical division operation, e.g\n",
        "7 % 5"
      ],
      "execution_count": null,
      "outputs": [
        {
          "output_type": "execute_result",
          "data": {
            "text/plain": [
              "2"
            ]
          },
          "metadata": {
            "tags": []
          },
          "execution_count": 3
        }
      ]
    },
    {
      "cell_type": "code",
      "metadata": {
        "id": "t3kEhTxTJmVx",
        "colab": {
          "base_uri": "https://localhost:8080/"
        },
        "outputId": "3f2a7df9-ba8b-4fd2-95e7-47e6f2480d33"
      },
      "source": [
        "# A Type function is a fuction that returns the class of whatever argument that is passed into it. eg\n",
        "print(type(5))"
      ],
      "execution_count": null,
      "outputs": [
        {
          "output_type": "stream",
          "text": [
            "<class 'int'>\n"
          ],
          "name": "stdout"
        }
      ]
    },
    {
      "cell_type": "code",
      "metadata": {
        "id": "hIjzuh_ptBUR"
      },
      "source": [
        "#coverting time in seconds to hours using date-time data type\n",
        "import datetime\n",
        "\n",
        "def convert(n):\n",
        "   return str(datetime.timedeta(seconds = n))\n",
        "   n = 12345\n",
        "   print(convert(n))"
      ],
      "execution_count": 6,
      "outputs": []
    },
    {
      "cell_type": "code",
      "metadata": {
        "id": "7F-c9dy5qH9r"
      },
      "source": [
        "import time\n",
        "\n",
        "def convert (seconds) :\n",
        "  return time.strftime(\"%H:%M:%S\" , time.gmtime(n))\n",
        "  n = 3600\n",
        "  print(convert(n));"
      ],
      "execution_count": 8,
      "outputs": []
    },
    {
      "cell_type": "code",
      "metadata": {
        "colab": {
          "base_uri": "https://localhost:8080/"
        },
        "id": "_Fqua5hIwtjL",
        "outputId": "0f9e687c-796f-4e5f-ec2f-a7395e9fc0e0"
      },
      "source": [
        "# A boolean is a data type that can be either return True or false. eg\n",
        "print(type(5) == type(\"5\"))\n"
      ],
      "execution_count": 9,
      "outputs": [
        {
          "output_type": "stream",
          "text": [
            "False\n"
          ],
          "name": "stdout"
        }
      ]
    },
    {
      "cell_type": "code",
      "metadata": {
        "colab": {
          "base_uri": "https://localhost:8080/"
        },
        "id": "hWsdlKAzBtGZ",
        "outputId": "475d21ab-9c89-4480-8130-e8a59331eb7e"
      },
      "source": [
        "def easy_money ():\n",
        "  print(100)\n",
        "\n",
        "easy_money()"
      ],
      "execution_count": 2,
      "outputs": [
        {
          "output_type": "stream",
          "text": [
            "100\n"
          ],
          "name": "stdout"
        }
      ]
    },
    {
      "cell_type": "code",
      "metadata": {
        "colab": {
          "base_uri": "https://localhost:8080/"
        },
        "id": "NgQwNUeQCgKU",
        "outputId": "739ed164-1be1-4f5c-cea7-f760d5a404e0"
      },
      "source": [
        "def best_food_ever ():\n",
        "  print(\"Sushi\")\n",
        "\n",
        "best_food_ever()"
      ],
      "execution_count": 3,
      "outputs": [
        {
          "output_type": "stream",
          "text": [
            "Sushi\n"
          ],
          "name": "stdout"
        }
      ]
    },
    {
      "cell_type": "code",
      "metadata": {
        "colab": {
          "base_uri": "https://localhost:8080/"
        },
        "id": "tfmO7mD0DQSd",
        "outputId": "0cae6228-6cbf-489e-8aa5-5a35865c0c06"
      },
      "source": [
        "def convert_to_currency (word :int) -> str:\n",
        "  return word \n",
        "\n",
        "result = convert_to_currency('$5')\n",
        "print(result)"
      ],
      "execution_count": 32,
      "outputs": [
        {
          "output_type": "stream",
          "text": [
            "$5\n"
          ],
          "name": "stdout"
        }
      ]
    },
    {
      "cell_type": "code",
      "metadata": {
        "colab": {
          "base_uri": "https://localhost:8080/"
        },
        "id": "VIej9toJWceU",
        "outputId": "3dfced92-e5b7-40a7-b8c4-2f6901a1e1fa"
      },
      "source": [
        "def string_adder (a = \" \", b = \" \") ->str:\n",
        "  return a + b\n",
        "\n",
        "print(string_adder(\"Hello\", \" World\"))\n",
        "print(string_adder())"
      ],
      "execution_count": 30,
      "outputs": [
        {
          "output_type": "stream",
          "text": [
            "Hello World\n",
            "  \n"
          ],
          "name": "stdout"
        }
      ]
    }
  ]
}