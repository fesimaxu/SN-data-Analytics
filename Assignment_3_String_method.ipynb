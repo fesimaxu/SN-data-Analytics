{
  "nbformat": 4,
  "nbformat_minor": 0,
  "metadata": {
    "colab": {
      "name": "Assignment 3-String method.ipynb",
      "provenance": [],
      "authorship_tag": "ABX9TyO85wr+kDFXL7TIe1qQlkcm",
      "include_colab_link": true
    },
    "kernelspec": {
      "name": "python3",
      "display_name": "Python 3"
    },
    "language_info": {
      "name": "python"
    }
  },
  "cells": [
    {
      "cell_type": "markdown",
      "metadata": {
        "id": "view-in-github",
        "colab_type": "text"
      },
      "source": [
        "<a href=\"https://colab.research.google.com/github/fesimaxu/SN-data-Analytics/blob/main/Assignment_3_String_method.ipynb\" target=\"_parent\"><img src=\"https://colab.research.google.com/assets/colab-badge.svg\" alt=\"Open In Colab\"/></a>"
      ]
    },
    {
      "cell_type": "markdown",
      "metadata": {
        "id": "c3oF4UoUj8eE"
      },
      "source": [
        "Fifteen (15) String **Methods**\n",
        "\n",
        "\n"
      ]
    },
    {
      "cell_type": "markdown",
      "metadata": {
        "id": "gIwSuAxTknsS"
      },
      "source": [
        "Answer 1\n",
        "Find : It is used tto find the letter or index value of a string.\n",
        "It accepts augements\n",
        "format : .find()\n"
      ]
    },
    {
      "cell_type": "code",
      "metadata": {
        "colab": {
          "base_uri": "https://localhost:8080/"
        },
        "id": "11ERtakZlR47",
        "outputId": "7df2af0d-3fd8-422b-e7e0-9da436ac0490"
      },
      "source": [
        "word = 'free Delivery'\n",
        "print(word.find('y'))"
      ],
      "execution_count": 33,
      "outputs": [
        {
          "output_type": "stream",
          "text": [
            "12\n"
          ],
          "name": "stdout"
        }
      ]
    },
    {
      "cell_type": "markdown",
      "metadata": {
        "id": "BOt6HW_pmQRy"
      },
      "source": [
        "Answer 2 : Count : it is a string method used to count the number of a string value. format : .count() , example"
      ]
    },
    {
      "cell_type": "code",
      "metadata": {
        "colab": {
          "base_uri": "https://localhost:8080/"
        },
        "id": "HEou2rxznb2a",
        "outputId": "6a21aaa8-95f8-4ed0-ced0-a05e8dc0960e"
      },
      "source": [
        "word = 'free Delivery'\n",
        "print(word.count(\"De\"))"
      ],
      "execution_count": 32,
      "outputs": [
        {
          "output_type": "stream",
          "text": [
            "1\n"
          ],
          "name": "stdout"
        }
      ]
    },
    {
      "cell_type": "markdown",
      "metadata": {
        "id": "CH_nvYHon5Z4"
      },
      "source": [
        "Answer 3 : Capitalize : it is a string method used to capitalize the first letter of the first value on a string data type.\n",
        "format : .capitalize(),\n",
        "example"
      ]
    },
    {
      "cell_type": "code",
      "metadata": {
        "colab": {
          "base_uri": "https://localhost:8080/"
        },
        "id": "3lFSChMVocPH",
        "outputId": "1d80bf00-9fbb-4e2b-958b-1c467ea665b5"
      },
      "source": [
        " story = \"once upon a time\"\n",
        " print (story.capitalize())"
      ],
      "execution_count": 6,
      "outputs": [
        {
          "output_type": "stream",
          "text": [
            "Once upon a time\n"
          ],
          "name": "stdout"
        }
      ]
    },
    {
      "cell_type": "markdown",
      "metadata": {
        "id": "pFY4FFKTozcm"
      },
      "source": [
        "No 4 : Upper method : it is used to capitalize the alphabet character of a string to upper case letters.\n",
        "format : .upper()\n",
        "example"
      ]
    },
    {
      "cell_type": "code",
      "metadata": {
        "colab": {
          "base_uri": "https://localhost:8080/"
        },
        "id": "ItS-SIB2pW7w",
        "outputId": "157b1b00-c63b-469e-c09f-b4d446113d08"
      },
      "source": [
        "name = \"uchenna igwe\"\n",
        "print(name.upper())"
      ],
      "execution_count": 7,
      "outputs": [
        {
          "output_type": "stream",
          "text": [
            "UCHENNA IGWE\n"
          ],
          "name": "stdout"
        }
      ]
    },
    {
      "cell_type": "markdown",
      "metadata": {
        "id": "IlKT2LzXpj68"
      },
      "source": [
        "No 5 : Lower methd :it is used to reduce the alphabet character of a string to lower case letters.                                                            format : .lower()                                                               \n",
        "example"
      ]
    },
    {
      "cell_type": "code",
      "metadata": {
        "colab": {
          "base_uri": "https://localhost:8080/"
        },
        "id": "mQvNbRZop8nH",
        "outputId": "2e971c62-727a-442b-f438-564d13c45410"
      },
      "source": [
        "name = \"uchenna igwe\"\n",
        "print(name.lower())"
      ],
      "execution_count": 8,
      "outputs": [
        {
          "output_type": "stream",
          "text": [
            "uchenna igwe\n"
          ],
          "name": "stdout"
        }
      ]
    },
    {
      "cell_type": "markdown",
      "metadata": {
        "id": "V878oUD4qGpC"
      },
      "source": [
        "No 6 : Islower: it is used to check if the alphabet character of a string contains lower case letters. format : .islower()  and returns a boolean value example"
      ]
    },
    {
      "cell_type": "code",
      "metadata": {
        "colab": {
          "base_uri": "https://localhost:8080/"
        },
        "id": "eu_Ltkv3q6oW",
        "outputId": "ce7e9516-d6d6-4544-a15d-bf8518c65dbe"
      },
      "source": [
        "story = \"once upon a time\"\n",
        "print(story.islower())"
      ],
      "execution_count": 9,
      "outputs": [
        {
          "output_type": "stream",
          "text": [
            "True\n"
          ],
          "name": "stdout"
        }
      ]
    },
    {
      "cell_type": "markdown",
      "metadata": {
        "id": "VQF4j4WcrQXD"
      },
      "source": [
        "No 7 : Isupper: it is used to check if the alphabet character of a string contains upper case letters. format : .isupper() and returns a boolean value example"
      ]
    },
    {
      "cell_type": "code",
      "metadata": {
        "colab": {
          "base_uri": "https://localhost:8080/"
        },
        "id": "fQPiz0aPretY",
        "outputId": "a9f1fc21-0411-48fa-9e96-8d2d42b1da34"
      },
      "source": [
        "print(story.isupper())"
      ],
      "execution_count": 10,
      "outputs": [
        {
          "output_type": "stream",
          "text": [
            "False\n"
          ],
          "name": "stdout"
        }
      ]
    },
    {
      "cell_type": "markdown",
      "metadata": {
        "id": "icq3jfR6rm9w"
      },
      "source": [
        "No 8 : Istitle: it is used to check if the alphabet character of a string contains writen in title formats. format : .islower() and returns a boolean value example"
      ]
    },
    {
      "cell_type": "code",
      "metadata": {
        "colab": {
          "base_uri": "https://localhost:8080/"
        },
        "id": "DrakIxGjsGoN",
        "outputId": "d1c33ea9-0dca-4d5e-9869-b6ec520b1438"
      },
      "source": [
        "print(story.istitle())"
      ],
      "execution_count": 11,
      "outputs": [
        {
          "output_type": "stream",
          "text": [
            "False\n"
          ],
          "name": "stdout"
        }
      ]
    },
    {
      "cell_type": "markdown",
      "metadata": {
        "id": "BqakwdP9sP6L"
      },
      "source": [
        "No 9 : Isspace: it is used to check if the alphabet character of a string contains space case . format : .isspace() and returns a boolean value example"
      ]
    },
    {
      "cell_type": "code",
      "metadata": {
        "colab": {
          "base_uri": "https://localhost:8080/"
        },
        "id": "erJgsdLTsiAc",
        "outputId": "30cf451a-a91c-4ae0-92f9-72719121e81f"
      },
      "source": [
        "print(story.isspace())"
      ],
      "execution_count": 12,
      "outputs": [
        {
          "output_type": "stream",
          "text": [
            "False\n"
          ],
          "name": "stdout"
        }
      ]
    },
    {
      "cell_type": "code",
      "metadata": {
        "colab": {
          "base_uri": "https://localhost:8080/"
        },
        "id": "hkBilDTEs9-U",
        "outputId": "6fb683f8-1245-40ed-da23-2615d41b43c7"
      },
      "source": [
        "print(' '.isspace())"
      ],
      "execution_count": 15,
      "outputs": [
        {
          "output_type": "stream",
          "text": [
            "True\n"
          ],
          "name": "stdout"
        }
      ]
    },
    {
      "cell_type": "markdown",
      "metadata": {
        "id": "j7Nz3KxatPYk"
      },
      "source": [
        "No 10 : Isnumeric: it is used to check if the alphabet character of a string contains a numeric value. format : .isnumeric() and returns a boolean value example"
      ]
    },
    {
      "cell_type": "code",
      "metadata": {
        "colab": {
          "base_uri": "https://localhost:8080/"
        },
        "id": "_ZLa0rCpteKk",
        "outputId": "c66c603c-26ed-4c77-a2db-887d97d3430c"
      },
      "source": [
        "print(\"1234#$\".isnumeric())"
      ],
      "execution_count": 17,
      "outputs": [
        {
          "output_type": "stream",
          "text": [
            "False\n"
          ],
          "name": "stdout"
        }
      ]
    },
    {
      "cell_type": "code",
      "metadata": {
        "colab": {
          "base_uri": "https://localhost:8080/"
        },
        "id": "UbMsr6sEtru7",
        "outputId": "a580ab1f-4dd3-4b69-f368-348303e9d28d"
      },
      "source": [
        "print(\"12346\".isnumeric())"
      ],
      "execution_count": 18,
      "outputs": [
        {
          "output_type": "stream",
          "text": [
            "True\n"
          ],
          "name": "stdout"
        }
      ]
    },
    {
      "cell_type": "markdown",
      "metadata": {
        "id": "VJ88b_mIty-2"
      },
      "source": [
        "No 11 : Isalpha: it is used to check if the string character alphabets. format : .isalpha() and returns a boolean value example"
      ]
    },
    {
      "cell_type": "code",
      "metadata": {
        "colab": {
          "base_uri": "https://localhost:8080/"
        },
        "id": "ueFxIn_puIBy",
        "outputId": "d58fe5ce-5f27-440c-c49b-04797d9868e9"
      },
      "source": [
        "print(\"adcb\".isalpha())"
      ],
      "execution_count": 20,
      "outputs": [
        {
          "output_type": "stream",
          "text": [
            "True\n"
          ],
          "name": "stdout"
        }
      ]
    },
    {
      "cell_type": "markdown",
      "metadata": {
        "id": "qfvBdjuKuY-H"
      },
      "source": [
        " Isalphanumeric: it is used to check if the string character alphabets and numbers in its values. format : .isalphanumeric() and returns a boolean value example"
      ]
    },
    {
      "cell_type": "code",
      "metadata": {
        "colab": {
          "base_uri": "https://localhost:8080/"
        },
        "id": "-kIh9w2-usCs",
        "outputId": "1265ca60-c45a-4420-83bd-13fb2c0f2540"
      },
      "source": [
        "print(\"124ghnm\".isalnum())"
      ],
      "execution_count": 22,
      "outputs": [
        {
          "output_type": "stream",
          "text": [
            "True\n"
          ],
          "name": "stdout"
        }
      ]
    },
    {
      "cell_type": "markdown",
      "metadata": {
        "id": "gNr_FmJpvFsC"
      },
      "source": [
        " No 12 : lstripe: it is used to clear or remove the values on the left side of a  string value which on te center of the string object and returns the value at the center. format : .lstripe() , example"
      ]
    },
    {
      "cell_type": "code",
      "metadata": {
        "colab": {
          "base_uri": "https://localhost:8080/"
        },
        "id": "2Vza3L04v04g",
        "outputId": "9ca9e42d-6f44-4e70-b162-700ef9693f28"
      },
      "source": [
        "game = \"       bookcontent       \"\n",
        "print(game.lstrip())"
      ],
      "execution_count": 27,
      "outputs": [
        {
          "output_type": "stream",
          "text": [
            "bookcontent       \n"
          ],
          "name": "stdout"
        }
      ]
    },
    {
      "cell_type": "markdown",
      "metadata": {
        "id": "chRW7o7qxxqp"
      },
      "source": [
        ""
      ]
    },
    {
      "cell_type": "markdown",
      "metadata": {
        "id": "NenqFZZBwpti"
      },
      "source": [
        " No 13 : rstripe: it is used to clear or remove the values on the right side of a  string value which on te center of the string object and returns the value at the center. format : .rstripe() , example"
      ]
    },
    {
      "cell_type": "code",
      "metadata": {
        "colab": {
          "base_uri": "https://localhost:8080/"
        },
        "id": "iZwx25KHw4cK",
        "outputId": "ac2e2706-66b3-4aa0-936a-7e9ea63e95d3"
      },
      "source": [
        "print(game.rstrip())"
      ],
      "execution_count": 28,
      "outputs": [
        {
          "output_type": "stream",
          "text": [
            "       bookcontent\n"
          ],
          "name": "stdout"
        }
      ]
    },
    {
      "cell_type": "markdown",
      "metadata": {
        "id": "-1QHKo8bw5Rk"
      },
      "source": [
        " No 14 : stripe: it is used to clear or remove the values on the left an right side of a  string value which on te center of the string object and returns the value at the center.  format : .stripe()  , example"
      ]
    },
    {
      "cell_type": "code",
      "metadata": {
        "colab": {
          "base_uri": "https://localhost:8080/"
        },
        "id": "2yM31zcayXVi",
        "outputId": "65a66a1a-5642-40f1-fcce-f8a4c918384e"
      },
      "source": [
        "print(game.strip())"
      ],
      "execution_count": 29,
      "outputs": [
        {
          "output_type": "stream",
          "text": [
            "bookcontent\n"
          ],
          "name": "stdout"
        }
      ]
    },
    {
      "cell_type": "markdown",
      "metadata": {
        "id": "hHWgYXwyyfzE"
      },
      "source": [
        "No. 15: replace : It is used o replace a string value.\n",
        "format : .replace()\n",
        "example"
      ]
    },
    {
      "cell_type": "code",
      "metadata": {
        "colab": {
          "base_uri": "https://localhost:8080/"
        },
        "id": "I5HYd4sMy1kB",
        "outputId": "348169f8-8dab-4497-c1cf-4408ab145db4"
      },
      "source": [
        "people = \" Great thinkers\"\n",
        "print(people.replace(\"thinkers\", \"people\"))"
      ],
      "execution_count": 30,
      "outputs": [
        {
          "output_type": "stream",
          "text": [
            " Great people\n"
          ],
          "name": "stdout"
        }
      ]
    }
  ]
}